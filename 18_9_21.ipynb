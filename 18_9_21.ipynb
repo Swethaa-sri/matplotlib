{
  "nbformat": 4,
  "nbformat_minor": 0,
  "metadata": {
    "colab": {
      "name": "18-9-21.ipynb",
      "provenance": []
    },
    "kernelspec": {
      "name": "python3",
      "display_name": "Python 3"
    },
    "language_info": {
      "name": "python"
    }
  },
  "cells": [
    {
      "cell_type": "code",
      "metadata": {
        "colab": {
          "base_uri": "https://localhost:8080/"
        },
        "id": "JnPLS5SQvP3d",
        "outputId": "a7f949e3-bb64-420b-c320-0cfc82a1321b"
      },
      "source": [
        "def func(a=0,b=0):\n",
        "  s = a+b\n",
        "  d = a-b\n",
        "  m = a*b\n",
        "  return s,d,m\n",
        "\n",
        "x1 = 5\n",
        "x2 = 4\n",
        "r = func(x1,x2)\n",
        "q = func()\n",
        "print(r)\n",
        "print(q)"
      ],
      "execution_count": 3,
      "outputs": [
        {
          "output_type": "stream",
          "name": "stdout",
          "text": [
            "(9, 1, 20)\n",
            "(0, 0, 0)\n"
          ]
        }
      ]
    },
    {
      "cell_type": "code",
      "metadata": {
        "colab": {
          "base_uri": "https://localhost:8080/"
        },
        "id": "rAVeDJ9m2HQZ",
        "outputId": "d373c19e-78f0-4a32-e308-0f55c452fc49"
      },
      "source": [
        "def me(name = 'Prince', age = 23 , gender = 'M'):\n",
        "  print('Name: ', name)\n",
        "  print('Age: ', age)\n",
        "  print('Gender: ', gender)\n",
        "\n",
        "me()\n",
        "me('Praveen',22)"
      ],
      "execution_count": 9,
      "outputs": [
        {
          "output_type": "stream",
          "name": "stdout",
          "text": [
            "Name:  Prince\n",
            "Age:  23\n",
            "Gender:  M\n",
            "Name:  Praveen\n",
            "Age:  22\n",
            "Gender:  M\n"
          ]
        }
      ]
    },
    {
      "cell_type": "code",
      "metadata": {
        "id": "rhZKSuW_39Jp"
      },
      "source": [
        "def fun(*v):\n",
        "  print(v)"
      ],
      "execution_count": 11,
      "outputs": []
    },
    {
      "cell_type": "code",
      "metadata": {
        "colab": {
          "base_uri": "https://localhost:8080/"
        },
        "id": "FxOYfTYX4HYZ",
        "outputId": "53f52642-37b4-4bf0-f8a0-83e57f2f784f"
      },
      "source": [
        "fun(12,11,13,15)"
      ],
      "execution_count": 12,
      "outputs": [
        {
          "output_type": "stream",
          "name": "stdout",
          "text": [
            "(12, 11, 13, 15)\n"
          ]
        }
      ]
    },
    {
      "cell_type": "code",
      "metadata": {
        "colab": {
          "base_uri": "https://localhost:8080/"
        },
        "id": "8tQ46caT4qoT",
        "outputId": "77eb1436-2f20-422c-d15f-459f45072b23"
      },
      "source": [
        "def funct(*v):\n",
        "  for i in v:\n",
        "    print(i**2)\n",
        "\n",
        "funct(1,2,3,4)"
      ],
      "execution_count": 13,
      "outputs": [
        {
          "output_type": "stream",
          "name": "stdout",
          "text": [
            "1\n",
            "4\n",
            "9\n",
            "16\n"
          ]
        }
      ]
    },
    {
      "cell_type": "markdown",
      "metadata": {
        "id": "GGcuOp9781c3"
      },
      "source": [
        "#File Operations!"
      ]
    },
    {
      "cell_type": "code",
      "metadata": {
        "colab": {
          "base_uri": "https://localhost:8080/"
        },
        "id": "E0L9tB-N5D8v",
        "outputId": "6045de9f-ab8b-4f28-8d16-df0139fb7a3f"
      },
      "source": [
        "!pwd"
      ],
      "execution_count": 14,
      "outputs": [
        {
          "output_type": "stream",
          "name": "stdout",
          "text": [
            "/content\n"
          ]
        }
      ]
    },
    {
      "cell_type": "code",
      "metadata": {
        "id": "hyB8yxt69jqn"
      },
      "source": [
        "!mkdir prince"
      ],
      "execution_count": 15,
      "outputs": []
    },
    {
      "cell_type": "code",
      "metadata": {
        "id": "-0Z6gQCK96JS"
      },
      "source": [
        "!cd prince"
      ],
      "execution_count": 16,
      "outputs": []
    },
    {
      "cell_type": "code",
      "metadata": {
        "colab": {
          "base_uri": "https://localhost:8080/"
        },
        "id": "MEe_DtbG998V",
        "outputId": "75b125c2-b1a8-4974-a232-0d4d11016a1a"
      },
      "source": [
        "!pwd"
      ],
      "execution_count": 17,
      "outputs": [
        {
          "output_type": "stream",
          "name": "stdout",
          "text": [
            "/content\n"
          ]
        }
      ]
    },
    {
      "cell_type": "code",
      "metadata": {
        "colab": {
          "base_uri": "https://localhost:8080/",
          "height": 164
        },
        "id": "ph9F1fFj-J11",
        "outputId": "3e2e6cdf-fd8f-4eb1-f297-78396db9da6a"
      },
      "source": [
        "f = open('vinoth.txt','x')"
      ],
      "execution_count": 21,
      "outputs": [
        {
          "output_type": "error",
          "ename": "FileExistsError",
          "evalue": "ignored",
          "traceback": [
            "\u001b[0;31m---------------------------------------------------------------------------\u001b[0m",
            "\u001b[0;31mFileExistsError\u001b[0m                           Traceback (most recent call last)",
            "\u001b[0;32m<ipython-input-21-67fbcbb40436>\u001b[0m in \u001b[0;36m<module>\u001b[0;34m()\u001b[0m\n\u001b[0;32m----> 1\u001b[0;31m \u001b[0mf\u001b[0m \u001b[0;34m=\u001b[0m \u001b[0mopen\u001b[0m\u001b[0;34m(\u001b[0m\u001b[0;34m'vinoth.txt'\u001b[0m\u001b[0;34m,\u001b[0m\u001b[0;34m'x'\u001b[0m\u001b[0;34m)\u001b[0m\u001b[0;34m\u001b[0m\u001b[0;34m\u001b[0m\u001b[0m\n\u001b[0m",
            "\u001b[0;31mFileExistsError\u001b[0m: [Errno 17] File exists: 'vinoth.txt'"
          ]
        }
      ]
    },
    {
      "cell_type": "markdown",
      "metadata": {
        "id": "j10kuU8Z-yKk"
      },
      "source": [
        "x : Create the file, create the file if it doesn't exist\n",
        "Else - ERROR\n",
        "\n",
        "w: write, open the file for writing \"Overwrites the existing data in the file\"\n",
        "If file doesn't exist -> Create and Open.\n",
        "\n",
        "\n",
        "r: Read the values from the file.\n",
        "If file deosn't exist -> ERROR.\n",
        "\n",
        "\n",
        "a: Appends the value into the file\n",
        "If file doesn't exist -> Create and opens\n",
        "\n",
        "\n",
        "f : object"
      ]
    },
    {
      "cell_type": "code",
      "metadata": {
        "id": "9kwrh5dg-phI"
      },
      "source": [
        "f.close()"
      ],
      "execution_count": 20,
      "outputs": []
    },
    {
      "cell_type": "code",
      "metadata": {
        "id": "WxRRnqwm_ARy"
      },
      "source": [
        "f = open('vinoth.txt','w')"
      ],
      "execution_count": 22,
      "outputs": []
    },
    {
      "cell_type": "code",
      "metadata": {
        "id": "YHUUkfgwAhM6"
      },
      "source": [
        "f.write(\"Hello, World!\")\n",
        "f.close()"
      ],
      "execution_count": 23,
      "outputs": []
    },
    {
      "cell_type": "code",
      "metadata": {
        "id": "PadAtHMJAvGL"
      },
      "source": [
        "f = open('vinoth.txt','w')\n",
        "f.write(\"Hi GUVI Class\")\n",
        "f.close()"
      ],
      "execution_count": 24,
      "outputs": []
    },
    {
      "cell_type": "code",
      "metadata": {
        "id": "o-AI6X7tBDFE"
      },
      "source": [
        "f = open('vinoth.txt','a')\n",
        "f.write('\\n')\n",
        "f.write(str(func(3,4)))\n",
        "f.close()"
      ],
      "execution_count": 30,
      "outputs": []
    },
    {
      "cell_type": "code",
      "metadata": {
        "colab": {
          "base_uri": "https://localhost:8080/"
        },
        "id": "5qMp3UOsDOjZ",
        "outputId": "90cc3eed-4c83-4e40-f262-71cb06be0001"
      },
      "source": [
        "f = open('vinoth.txt','r')\n",
        "print(f.read())\n",
        "f.close()"
      ],
      "execution_count": 31,
      "outputs": [
        {
          "output_type": "stream",
          "name": "stdout",
          "text": [
            "Hi GUVI ClassHello, again!\n",
            " Hello, again!(7, -1, 12)\n",
            "(7, -1, 12)\n"
          ]
        }
      ]
    },
    {
      "cell_type": "code",
      "metadata": {
        "id": "BfNR_jQNFjj6"
      },
      "source": [
        ""
      ],
      "execution_count": null,
      "outputs": []
    }
  ]
}